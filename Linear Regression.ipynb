{
 "cells": [
  {
   "cell_type": "code",
   "execution_count": 1,
   "id": "b9534189-3403-445b-9b48-86df5731c8b0",
   "metadata": {},
   "outputs": [],
   "source": [
    "import warnings\n",
    "warnings.simplefilter(\"ignore\")"
   ]
  },
  {
   "cell_type": "code",
   "execution_count": 2,
   "id": "66511737-c11f-4297-90d5-d44d8be3f5ae",
   "metadata": {},
   "outputs": [
    {
     "name": "stdout",
     "output_type": "stream",
     "text": [
      "Requirement already satisfied: pandas in c:\\users\\gmano\\anaconda3\\envs\\datascienceml\\lib\\site-packages (2.3.2)\n",
      "Requirement already satisfied: numpy>=1.26.0 in c:\\users\\gmano\\anaconda3\\envs\\datascienceml\\lib\\site-packages (from pandas) (2.3.2)\n",
      "Requirement already satisfied: python-dateutil>=2.8.2 in c:\\users\\gmano\\anaconda3\\envs\\datascienceml\\lib\\site-packages (from pandas) (2.9.0.post0)\n",
      "Requirement already satisfied: pytz>=2020.1 in c:\\users\\gmano\\anaconda3\\envs\\datascienceml\\lib\\site-packages (from pandas) (2025.2)\n",
      "Requirement already satisfied: tzdata>=2022.7 in c:\\users\\gmano\\anaconda3\\envs\\datascienceml\\lib\\site-packages (from pandas) (2025.2)\n",
      "Requirement already satisfied: six>=1.5 in c:\\users\\gmano\\anaconda3\\envs\\datascienceml\\lib\\site-packages (from python-dateutil>=2.8.2->pandas) (1.17.0)\n",
      "Note: you may need to restart the kernel to use updated packages.\n"
     ]
    }
   ],
   "source": [
    "pip install pandas"
   ]
  },
  {
   "cell_type": "code",
   "execution_count": 3,
   "id": "85e14cda-a97b-4161-a21a-ed2dd0ca0e37",
   "metadata": {},
   "outputs": [
    {
     "name": "stdout",
     "output_type": "stream",
     "text": [
      "Requirement already satisfied: numpy in c:\\users\\gmano\\anaconda3\\envs\\datascienceml\\lib\\site-packages (2.3.2)\n",
      "Note: you may need to restart the kernel to use updated packages.\n"
     ]
    }
   ],
   "source": [
    "pip install numpy"
   ]
  },
  {
   "cell_type": "code",
   "execution_count": 4,
   "id": "b8e304f7-c27c-4b8e-907e-ca5f3bafc69f",
   "metadata": {},
   "outputs": [
    {
     "name": "stdout",
     "output_type": "stream",
     "text": [
      "Requirement already satisfied: matplotlib in c:\\users\\gmano\\anaconda3\\envs\\datascienceml\\lib\\site-packages (3.10.6)\n",
      "Requirement already satisfied: contourpy>=1.0.1 in c:\\users\\gmano\\anaconda3\\envs\\datascienceml\\lib\\site-packages (from matplotlib) (1.3.3)\n",
      "Requirement already satisfied: cycler>=0.10 in c:\\users\\gmano\\anaconda3\\envs\\datascienceml\\lib\\site-packages (from matplotlib) (0.12.1)\n",
      "Requirement already satisfied: fonttools>=4.22.0 in c:\\users\\gmano\\anaconda3\\envs\\datascienceml\\lib\\site-packages (from matplotlib) (4.59.2)\n",
      "Requirement already satisfied: kiwisolver>=1.3.1 in c:\\users\\gmano\\anaconda3\\envs\\datascienceml\\lib\\site-packages (from matplotlib) (1.4.9)\n",
      "Requirement already satisfied: numpy>=1.23 in c:\\users\\gmano\\anaconda3\\envs\\datascienceml\\lib\\site-packages (from matplotlib) (2.3.2)\n",
      "Requirement already satisfied: packaging>=20.0 in c:\\users\\gmano\\anaconda3\\envs\\datascienceml\\lib\\site-packages (from matplotlib) (25.0)\n",
      "Requirement already satisfied: pillow>=8 in c:\\users\\gmano\\anaconda3\\envs\\datascienceml\\lib\\site-packages (from matplotlib) (11.3.0)\n",
      "Requirement already satisfied: pyparsing>=2.3.1 in c:\\users\\gmano\\anaconda3\\envs\\datascienceml\\lib\\site-packages (from matplotlib) (3.2.3)\n",
      "Requirement already satisfied: python-dateutil>=2.7 in c:\\users\\gmano\\anaconda3\\envs\\datascienceml\\lib\\site-packages (from matplotlib) (2.9.0.post0)\n",
      "Requirement already satisfied: six>=1.5 in c:\\users\\gmano\\anaconda3\\envs\\datascienceml\\lib\\site-packages (from python-dateutil>=2.7->matplotlib) (1.17.0)\n",
      "Note: you may need to restart the kernel to use updated packages.\n"
     ]
    }
   ],
   "source": [
    "pip install matplotlib\n"
   ]
  },
  {
   "cell_type": "code",
   "execution_count": 5,
   "id": "61a077ed-8603-44c9-b2a8-8ea648b35248",
   "metadata": {},
   "outputs": [
    {
     "name": "stdout",
     "output_type": "stream",
     "text": [
      "Requirement already satisfied: seaborn in c:\\users\\gmano\\anaconda3\\envs\\datascienceml\\lib\\site-packages (0.13.2)\n",
      "Requirement already satisfied: numpy!=1.24.0,>=1.20 in c:\\users\\gmano\\anaconda3\\envs\\datascienceml\\lib\\site-packages (from seaborn) (2.3.2)\n",
      "Requirement already satisfied: pandas>=1.2 in c:\\users\\gmano\\anaconda3\\envs\\datascienceml\\lib\\site-packages (from seaborn) (2.3.2)\n",
      "Requirement already satisfied: matplotlib!=3.6.1,>=3.4 in c:\\users\\gmano\\anaconda3\\envs\\datascienceml\\lib\\site-packages (from seaborn) (3.10.6)\n",
      "Requirement already satisfied: contourpy>=1.0.1 in c:\\users\\gmano\\anaconda3\\envs\\datascienceml\\lib\\site-packages (from matplotlib!=3.6.1,>=3.4->seaborn) (1.3.3)\n",
      "Requirement already satisfied: cycler>=0.10 in c:\\users\\gmano\\anaconda3\\envs\\datascienceml\\lib\\site-packages (from matplotlib!=3.6.1,>=3.4->seaborn) (0.12.1)\n",
      "Requirement already satisfied: fonttools>=4.22.0 in c:\\users\\gmano\\anaconda3\\envs\\datascienceml\\lib\\site-packages (from matplotlib!=3.6.1,>=3.4->seaborn) (4.59.2)\n",
      "Requirement already satisfied: kiwisolver>=1.3.1 in c:\\users\\gmano\\anaconda3\\envs\\datascienceml\\lib\\site-packages (from matplotlib!=3.6.1,>=3.4->seaborn) (1.4.9)\n",
      "Requirement already satisfied: packaging>=20.0 in c:\\users\\gmano\\anaconda3\\envs\\datascienceml\\lib\\site-packages (from matplotlib!=3.6.1,>=3.4->seaborn) (25.0)\n",
      "Requirement already satisfied: pillow>=8 in c:\\users\\gmano\\anaconda3\\envs\\datascienceml\\lib\\site-packages (from matplotlib!=3.6.1,>=3.4->seaborn) (11.3.0)\n",
      "Requirement already satisfied: pyparsing>=2.3.1 in c:\\users\\gmano\\anaconda3\\envs\\datascienceml\\lib\\site-packages (from matplotlib!=3.6.1,>=3.4->seaborn) (3.2.3)\n",
      "Requirement already satisfied: python-dateutil>=2.7 in c:\\users\\gmano\\anaconda3\\envs\\datascienceml\\lib\\site-packages (from matplotlib!=3.6.1,>=3.4->seaborn) (2.9.0.post0)\n",
      "Requirement already satisfied: pytz>=2020.1 in c:\\users\\gmano\\anaconda3\\envs\\datascienceml\\lib\\site-packages (from pandas>=1.2->seaborn) (2025.2)\n",
      "Requirement already satisfied: tzdata>=2022.7 in c:\\users\\gmano\\anaconda3\\envs\\datascienceml\\lib\\site-packages (from pandas>=1.2->seaborn) (2025.2)\n",
      "Requirement already satisfied: six>=1.5 in c:\\users\\gmano\\anaconda3\\envs\\datascienceml\\lib\\site-packages (from python-dateutil>=2.7->matplotlib!=3.6.1,>=3.4->seaborn) (1.17.0)\n",
      "Note: you may need to restart the kernel to use updated packages.\n"
     ]
    }
   ],
   "source": [
    "pip install seaborn"
   ]
  },
  {
   "cell_type": "code",
   "execution_count": 6,
   "id": "b09719d1-2d5b-43cb-8e2d-7d67058ebd84",
   "metadata": {},
   "outputs": [
    {
     "name": "stdout",
     "output_type": "stream",
     "text": [
      "Requirement already satisfied: scikit-learn in c:\\users\\gmano\\anaconda3\\envs\\datascienceml\\lib\\site-packages (1.7.1)\n",
      "Requirement already satisfied: numpy>=1.22.0 in c:\\users\\gmano\\anaconda3\\envs\\datascienceml\\lib\\site-packages (from scikit-learn) (2.3.2)\n",
      "Requirement already satisfied: scipy>=1.8.0 in c:\\users\\gmano\\anaconda3\\envs\\datascienceml\\lib\\site-packages (from scikit-learn) (1.16.1)\n",
      "Requirement already satisfied: joblib>=1.2.0 in c:\\users\\gmano\\anaconda3\\envs\\datascienceml\\lib\\site-packages (from scikit-learn) (1.5.2)\n",
      "Requirement already satisfied: threadpoolctl>=3.1.0 in c:\\users\\gmano\\anaconda3\\envs\\datascienceml\\lib\\site-packages (from scikit-learn) (3.6.0)\n",
      "Note: you may need to restart the kernel to use updated packages.\n"
     ]
    }
   ],
   "source": [
    "pip install scikit-learn"
   ]
  },
  {
   "cell_type": "code",
   "execution_count": 7,
   "id": "c475ebed-c887-4913-89e7-efc964d81093",
   "metadata": {},
   "outputs": [],
   "source": [
    "import numpy as np"
   ]
  },
  {
   "cell_type": "code",
   "execution_count": 8,
   "id": "a6a705a7-e832-42fe-9f37-55a234525261",
   "metadata": {},
   "outputs": [],
   "source": [
    "import matplotlib.pyplot as plt"
   ]
  },
  {
   "cell_type": "markdown",
   "id": "15c865fa-0764-4c75-9a52-f8f6ede2e562",
   "metadata": {},
   "source": [
    "# Generate sample data"
   ]
  },
  {
   "cell_type": "code",
   "execution_count": 9,
   "id": "fc7c5c96-5dc1-4074-b96d-6e3f01343294",
   "metadata": {},
   "outputs": [],
   "source": [
    "np.random.seed(42)"
   ]
  },
  {
   "cell_type": "code",
   "execution_count": 19,
   "id": "9f83913a-a76b-4b27-a25a-7d1f6b48ce52",
   "metadata": {},
   "outputs": [],
   "source": [
    "X = np.linspace(1, 40, 150)"
   ]
  },
  {
   "cell_type": "code",
   "execution_count": 20,
   "id": "ce3f2271-7a75-436d-bb58-f39adb457479",
   "metadata": {},
   "outputs": [],
   "source": [
    "y = 3.5 * X + 7 + np.random.randn(150) * 5"
   ]
  },
  {
   "cell_type": "code",
   "execution_count": 21,
   "id": "26b4bb3a-02b4-40dc-af62-9d6264481595",
   "metadata": {},
   "outputs": [],
   "source": [
    "x_mean, y_mean = np.mean(X), np.mean(y)\n"
   ]
  },
  {
   "cell_type": "code",
   "execution_count": 22,
   "id": "02118e1f-ee98-4362-9a8c-dc72ca016d11",
   "metadata": {},
   "outputs": [],
   "source": [
    "\n",
    "m = np.sum((X - x_mean) * (y - y_mean)) / np.sum((X - x_mean) ** 2)\n"
   ]
  },
  {
   "cell_type": "code",
   "execution_count": 23,
   "id": "af2b352e-a6c1-4b25-97fd-d9837b864adc",
   "metadata": {},
   "outputs": [
    {
     "name": "stdout",
     "output_type": "stream",
     "text": [
      "Calculated Regression Line: y = 3.47x + 7.97\n"
     ]
    }
   ],
   "source": [
    "b = y_mean - m * x_mean\n",
    "\n",
    "print(f\"Calculated Regression Line: y = {m:.2f}x + {b:.2f}\")\n"
   ]
  },
  {
   "cell_type": "code",
   "execution_count": 24,
   "id": "99613e60-79e8-423e-9d50-aa31e8ace67c",
   "metadata": {},
   "outputs": [],
   "source": [
    "y_pred = m * X + b\n"
   ]
  },
  {
   "cell_type": "code",
   "execution_count": 25,
   "id": "fddc314f-7b3f-4e43-b012-31a5ceda00be",
   "metadata": {},
   "outputs": [
    {
     "data": {
      "image/png": "[encoded data removed]",
      "text/plain": [
       "<Figure size 1000x500 with 1 Axes>"
      ]
     },
     "metadata": {},
     "output_type": "display_data"
    }
   ],
   "source": [
    "plt.figure(figsize=(10,5))\n",
    "plt.scatter(X, y, color=\"blue\", label=\"Data Points\")\n",
    "plt.plot(X, y_pred, color=\"red\", linewidth=3, label=\"Best Fit Line\")\n",
    "plt.title(\"Simple Linear Regression (from scratch)\", fontsize=14)\n",
    "plt.xlabel(\"X values\")\n",
    "plt.ylabel(\"y values\")\n",
    "plt.legend()\n",
    "plt.grid(True)\n",
    "plt.show()\n"
   ]
  },
  {
   "cell_type": "code",
   "execution_count": 26,
   "id": "ce243d5c-7ce8-4ef2-adf0-a824f0e5e4ef",
   "metadata": {},
   "outputs": [],
   "source": [
    "ss_total = np.sum((y - y_mean) ** 2)\n",
    "ss_residual = np.sum((y - y_pred) ** 2)\n",
    "r2_score = 1 - (ss_residual / ss_total)\n",
    "\n"
   ]
  },
  {
   "cell_type": "code",
   "execution_count": 27,
   "id": "8f8986d6-cddd-4d47-b678-7e6d4c818da7",
   "metadata": {},
   "outputs": [
    {
     "name": "stdout",
     "output_type": "stream",
     "text": [
      "Model Performance (R² Score): 0.984\n"
     ]
    }
   ],
   "source": [
    "print(f\"Model Performance (R² Score): {r2_score:.3f}\")"
   ]
  },
  {
   "cell_type": "code",
   "execution_count": null,
   "id": "0bc5b57c-e05c-48be-8457-98ca176bfd13",
   "metadata": {},
   "outputs": [],
   "source": []
  }
 ],
 "metadata": {
  "kernelspec": {
   "display_name": "Python 3 (ipykernel)",
   "language": "python",
   "name": "python3"
  },
  "language_info": {
   "codemirror_mode": {
    "name": "ipython",
    "version": 3
   },
   "file_extension": ".py",
   "mimetype": "text/x-python",
   "name": "python",
   "nbconvert_exporter": "python",
   "pygments_lexer": "ipython3",
   "version": "3.12.11"
  }
 },
 "nbformat": 4,
 "nbformat_minor": 5
}
